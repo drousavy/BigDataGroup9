{
 "cells": [
  {
   "cell_type": "markdown",
   "id": "75289e37",
   "metadata": {},
   "source": [
    "\n",
    "The dataset contains transactions made by credit cards in September 2013 by European cardholders.\n",
    "This dataset presents transactions that occurred in two days, where we have 492 frauds out of 284,807 transactions. The dataset is highly unbalanced, the positive class (frauds) account for 0.172% of all transactions.\n",
    "\n",
    "It contains only numerical input variables which are the result of a PCA transformation. Unfortunately, due to confidentiality issues, we cannot provide the original features and more background information about the data. Features V1, V2, … V28 are the principal components obtained with PCA, the only features which have not been transformed with PCA are 'Time' and 'Amount'. Feature 'Time' contains the seconds elapsed between each transaction and the first transaction in the dataset. The feature 'Amount' is the transaction Amount, this feature can be used for example-dependant cost-sensitive learning. Feature 'Class' is the response variable and it takes value 1 in case of fraud and 0 otherwise. \n",
    "\n",
    "We'll drop the 'Time'.\n",
    "\n",
    "Given the class imbalance ratio, we recommend measuring the accuracy using the Area Under the Precision-Recall Curve (AUPRC). Confusion matrix accuracy is not meaningful for unbalanced classification.\n",
    "\n",
    "We create a baseline model of a Random Forest Classifier Model so that we can compare this result with the use of data resampling.\n",
    "We will explore using 3 methods to see whether the model can be improved or not.\n",
    "\n",
    "- Undersampling the Majority\n",
    "- Oversampling the Minority\n",
    "- Synthetic Minority Over-Sampling Technique (SMOTE)"
   ]
  },
  {
   "cell_type": "markdown",
   "id": "6bd67194",
   "metadata": {},
   "source": [
    "### Import Relevant Libraries"
   ]
  },
  {
   "cell_type": "code",
   "execution_count": 51,
   "id": "bbcfc928",
   "metadata": {},
   "outputs": [],
   "source": [
    "import numpy as np\n",
    "import pandas as pd\n",
    "import matplotlib.pyplot as plt\n",
    "import findspark\n",
    "from pyspark.sql import SparkSession\n",
    "from pyspark.sql import functions as F\n",
    "from pyspark.sql.types import StructType, StructField, DoubleType, StringType, IntegerType\n",
    "from pyspark.ml.feature import VectorAssembler, StringIndexer\n",
    "from pyspark.ml.classification import RandomForestClassifier, RandomForestClassificationModel\n",
    "from pyspark.ml.evaluation import BinaryClassificationEvaluator, MulticlassClassificationEvaluator\n",
    "from pyspark.mllib.evaluation import MulticlassMetrics\n",
    "\n",
    "from sklearn.metrics import confusion_matrix"
   ]
  },
  {
   "cell_type": "markdown",
   "id": "e5f367af",
   "metadata": {},
   "source": [
    "### Initialize the Spark Context"
   ]
  },
  {
   "cell_type": "code",
   "execution_count": 52,
   "id": "fddfdeda",
   "metadata": {},
   "outputs": [],
   "source": [
    "# Use findspark.init() to locate spark on the system and import the library for you.\n",
    "# If you don't do this step, you might face an issue of python worker failed to connect.\n",
    "findspark.init()\n",
    "\n",
    "# Start the Spark session\n",
    "spark = SparkSession.builder.appName(\"creditcard\").getOrCreate()"
   ]
  },
  {
   "cell_type": "markdown",
   "id": "dcef83b0",
   "metadata": {},
   "source": [
    "### Read creditcard.csv"
   ]
  },
  {
   "cell_type": "code",
   "execution_count": 53,
   "id": "c0fa64c6",
   "metadata": {},
   "outputs": [
    {
     "name": "stdout",
     "output_type": "stream",
     "text": [
      "root\n",
      " |-- Time: integer (nullable = true)\n",
      " |-- V1: double (nullable = true)\n",
      " |-- V2: double (nullable = true)\n",
      " |-- V3: double (nullable = true)\n",
      " |-- V4: double (nullable = true)\n",
      " |-- V5: double (nullable = true)\n",
      " |-- V6: double (nullable = true)\n",
      " |-- V7: double (nullable = true)\n",
      " |-- V8: double (nullable = true)\n",
      " |-- V9: double (nullable = true)\n",
      " |-- V10: double (nullable = true)\n",
      " |-- V11: double (nullable = true)\n",
      " |-- V12: double (nullable = true)\n",
      " |-- V13: double (nullable = true)\n",
      " |-- V14: double (nullable = true)\n",
      " |-- V15: double (nullable = true)\n",
      " |-- V16: double (nullable = true)\n",
      " |-- V17: double (nullable = true)\n",
      " |-- V18: double (nullable = true)\n",
      " |-- V19: double (nullable = true)\n",
      " |-- V20: double (nullable = true)\n",
      " |-- V21: double (nullable = true)\n",
      " |-- V22: double (nullable = true)\n",
      " |-- V23: double (nullable = true)\n",
      " |-- V24: double (nullable = true)\n",
      " |-- V25: double (nullable = true)\n",
      " |-- V26: double (nullable = true)\n",
      " |-- V27: double (nullable = true)\n",
      " |-- V28: double (nullable = true)\n",
      " |-- Amount: double (nullable = true)\n",
      " |-- Class: integer (nullable = true)\n",
      "\n"
     ]
    }
   ],
   "source": [
    "newDF=[StructField('Time',IntegerType(),True),\n",
    "       StructField('V1',DoubleType(),True),\n",
    "       StructField('V2',DoubleType(),True),\n",
    "       StructField('V3',DoubleType(),True),\n",
    "       StructField('V4',DoubleType(),True),\n",
    "       StructField('V5',DoubleType(),True),\n",
    "       StructField('V6',DoubleType(),True),\n",
    "       StructField('V7',DoubleType(),True),\n",
    "       StructField('V8',DoubleType(),True),\n",
    "       StructField('V9',DoubleType(),True),\n",
    "       StructField('V10',DoubleType(),True),\n",
    "       StructField('V11',DoubleType(),True),\n",
    "       StructField('V12',DoubleType(),True),\n",
    "       StructField('V13',DoubleType(),True),\n",
    "       StructField('V14',DoubleType(),True),\n",
    "       StructField('V15',DoubleType(),True),\n",
    "       StructField('V16',DoubleType(),True),\n",
    "       StructField('V17',DoubleType(),True),\n",
    "       StructField('V18',DoubleType(),True),\n",
    "       StructField('V19',DoubleType(),True),\n",
    "       StructField('V20',DoubleType(),True),\n",
    "       StructField('V21',DoubleType(),True),\n",
    "       StructField('V22',DoubleType(),True),\n",
    "       StructField('V23',DoubleType(),True),\n",
    "       StructField('V24',DoubleType(),True),\n",
    "       StructField('V25',DoubleType(),True),\n",
    "       StructField('V26',DoubleType(),True),\n",
    "       StructField('V27',DoubleType(),True),\n",
    "       StructField('V28',DoubleType(),True),\n",
    "       StructField('Amount',DoubleType(),True),\n",
    "       StructField('Class',IntegerType(),True) \n",
    "       ]\n",
    "finalStruct=StructType(fields=newDF)\n",
    "\n",
    "pyspark_df = spark.read.format('csv')\\\n",
    "                    .option('header',True)\\\n",
    "                    .schema(finalStruct)\\\n",
    "                    .load('creditcard.csv')\n",
    "pyspark_df.printSchema()"
   ]
  },
  {
   "cell_type": "code",
   "execution_count": 54,
   "id": "118cf175",
   "metadata": {},
   "outputs": [],
   "source": [
    "pyspark_df=pyspark_df.drop(\"Time\")"
   ]
  },
  {
   "cell_type": "code",
   "execution_count": 55,
   "id": "5caf3dac",
   "metadata": {},
   "outputs": [
    {
     "data": {
      "text/plain": [
       "492"
      ]
     },
     "execution_count": 55,
     "metadata": {},
     "output_type": "execute_result"
    }
   ],
   "source": [
    "pyspark_df.filter(F.col('Class')==1).count()\n"
   ]
  },
  {
   "cell_type": "code",
   "execution_count": 56,
   "id": "950eb9f7",
   "metadata": {},
   "outputs": [
    {
     "data": {
      "text/plain": [
       "284315"
      ]
     },
     "execution_count": 56,
     "metadata": {},
     "output_type": "execute_result"
    }
   ],
   "source": [
    "pyspark_df.filter(F.col('Class')==0).count()"
   ]
  },
  {
   "cell_type": "markdown",
   "id": "1950ccda",
   "metadata": {},
   "source": [
    "#### Create a table to store the results"
   ]
  },
  {
   "cell_type": "code",
   "execution_count": 57,
   "id": "67aea12b",
   "metadata": {},
   "outputs": [],
   "source": [
    "from prettytable import PrettyTable \n",
    "# Specify the Column Names while initializing the Table \n",
    "resultsTable = PrettyTable([\"Method\", \"AUROC\", \"Recall\", \"Accuracy\",\"TN\",\"TP\",\"FP\",\"FN\"]) "
   ]
  },
  {
   "cell_type": "markdown",
   "id": "a0142add",
   "metadata": {},
   "source": [
    "#### Split the data into train and test"
   ]
  },
  {
   "cell_type": "code",
   "execution_count": 58,
   "id": "7a34a773",
   "metadata": {},
   "outputs": [
    {
     "name": "stdout",
     "output_type": "stream",
     "text": [
      "Training Set Size: 227945\n",
      "Testing Set Size: 54124\n",
      "Class 1 fraction in Training Set Size: 0.0017372611814253439\n",
      "Class 1 fraction in Test Set Size: 0.0016443721823959797\n"
     ]
    }
   ],
   "source": [
    "# Set the train/test ratio\n",
    "train_test_ratio = 0.8\n",
    "\n",
    "# Split the data into training and testing sets using stratified sampling\n",
    "train_data_class_b = pyspark_df.filter(F.col('Class')==1).sample(fraction=train_test_ratio, seed=88)\n",
    "train_data_class_a = pyspark_df.filter(F.col('Class')==0).sample(fraction=train_test_ratio, seed=88)\n",
    "train_data = train_data_class_a.union(train_data_class_b)\n",
    "\n",
    "test_data = pyspark_df.subtract(train_data)\n",
    "\n",
    "# Print the number of samples in each set\n",
    "print(\"Training Set Size:\", train_data.count())\n",
    "print(\"Testing Set Size:\", test_data.count())\n",
    "print(\"Class 1 fraction in Training Set Size:\", train_data.filter(F.col('Class')==1).count()/train_data.count())\n",
    "print(\"Class 1 fraction in Test Set Size:\", test_data.filter(F.col('Class')==1).count()/test_data.count())"
   ]
  },
  {
   "cell_type": "markdown",
   "id": "56335d89",
   "metadata": {},
   "source": [
    "### Create a Random Forest Classifier Model\n",
    "#### Prep the data by vectorizing it and stringindexing it"
   ]
  },
  {
   "cell_type": "code",
   "execution_count": 59,
   "id": "0871d1ea",
   "metadata": {},
   "outputs": [],
   "source": [
    "# Assemble the features into a Vector to feed the Model.\n",
    "feature_list = ['V1', 'V2', 'V3', 'V4' ,'V5', 'V6', 'V7', 'V8', 'V9', 'V10', 'V11', 'V12', 'V13', 'V14', 'V15', 'V16', 'V17', 'V18', 'V19', 'V20', 'V21', 'V22', 'V23', 'V24', 'V25', 'V26', 'V27', 'V28',  'Amount']\n",
    "assembler = VectorAssembler(inputCols=feature_list, outputCol='features_for_model')\n",
    "model_df1 = assembler.transform(train_data)\n",
    "\n",
    "# Convert the label from String to Numeric using a StringIndexer\n",
    "indexer = StringIndexer(inputCol='Class', outputCol='label')\n",
    "model_df2 = indexer.fit(model_df1).transform(model_df1)"
   ]
  },
  {
   "cell_type": "code",
   "execution_count": 60,
   "id": "7ce5759b",
   "metadata": {},
   "outputs": [
    {
     "data": {
      "text/html": [
       "<div>\n",
       "<style scoped>\n",
       "    .dataframe tbody tr th:only-of-type {\n",
       "        vertical-align: middle;\n",
       "    }\n",
       "\n",
       "    .dataframe tbody tr th {\n",
       "        vertical-align: top;\n",
       "    }\n",
       "\n",
       "    .dataframe thead th {\n",
       "        text-align: right;\n",
       "    }\n",
       "</style>\n",
       "<table border=\"1\" class=\"dataframe\">\n",
       "  <thead>\n",
       "    <tr style=\"text-align: right;\">\n",
       "      <th></th>\n",
       "      <th>V1</th>\n",
       "      <th>V2</th>\n",
       "      <th>V3</th>\n",
       "      <th>V4</th>\n",
       "      <th>V5</th>\n",
       "      <th>V6</th>\n",
       "      <th>V7</th>\n",
       "      <th>V8</th>\n",
       "      <th>V9</th>\n",
       "      <th>V10</th>\n",
       "      <th>...</th>\n",
       "      <th>V22</th>\n",
       "      <th>V23</th>\n",
       "      <th>V24</th>\n",
       "      <th>V25</th>\n",
       "      <th>V26</th>\n",
       "      <th>V27</th>\n",
       "      <th>V28</th>\n",
       "      <th>Amount</th>\n",
       "      <th>Class</th>\n",
       "      <th>features_for_model</th>\n",
       "    </tr>\n",
       "  </thead>\n",
       "  <tbody>\n",
       "    <tr>\n",
       "      <th>0</th>\n",
       "      <td>1.191857</td>\n",
       "      <td>0.266151</td>\n",
       "      <td>0.166480</td>\n",
       "      <td>0.448154</td>\n",
       "      <td>0.060018</td>\n",
       "      <td>-0.082361</td>\n",
       "      <td>-0.078803</td>\n",
       "      <td>0.085102</td>\n",
       "      <td>-0.255425</td>\n",
       "      <td>-0.166974</td>\n",
       "      <td>...</td>\n",
       "      <td>-0.638672</td>\n",
       "      <td>0.101288</td>\n",
       "      <td>-0.339846</td>\n",
       "      <td>0.167170</td>\n",
       "      <td>0.125895</td>\n",
       "      <td>-0.008983</td>\n",
       "      <td>0.014724</td>\n",
       "      <td>2.69</td>\n",
       "      <td>0</td>\n",
       "      <td>[1.19185711131486, 0.26615071205963, 0.1664801...</td>\n",
       "    </tr>\n",
       "    <tr>\n",
       "      <th>1</th>\n",
       "      <td>-1.358354</td>\n",
       "      <td>-1.340163</td>\n",
       "      <td>1.773209</td>\n",
       "      <td>0.379780</td>\n",
       "      <td>-0.503198</td>\n",
       "      <td>1.800499</td>\n",
       "      <td>0.791461</td>\n",
       "      <td>0.247676</td>\n",
       "      <td>-1.514654</td>\n",
       "      <td>0.207643</td>\n",
       "      <td>...</td>\n",
       "      <td>0.771679</td>\n",
       "      <td>0.909412</td>\n",
       "      <td>-0.689281</td>\n",
       "      <td>-0.327642</td>\n",
       "      <td>-0.139097</td>\n",
       "      <td>-0.055353</td>\n",
       "      <td>-0.059752</td>\n",
       "      <td>378.66</td>\n",
       "      <td>0</td>\n",
       "      <td>[-1.35835406159823, -1.34016307473609, 1.77320...</td>\n",
       "    </tr>\n",
       "    <tr>\n",
       "      <th>2</th>\n",
       "      <td>-1.158233</td>\n",
       "      <td>0.877737</td>\n",
       "      <td>1.548718</td>\n",
       "      <td>0.403034</td>\n",
       "      <td>-0.407193</td>\n",
       "      <td>0.095921</td>\n",
       "      <td>0.592941</td>\n",
       "      <td>-0.270533</td>\n",
       "      <td>0.817739</td>\n",
       "      <td>0.753074</td>\n",
       "      <td>...</td>\n",
       "      <td>0.798278</td>\n",
       "      <td>-0.137458</td>\n",
       "      <td>0.141267</td>\n",
       "      <td>-0.206010</td>\n",
       "      <td>0.502292</td>\n",
       "      <td>0.219422</td>\n",
       "      <td>0.215153</td>\n",
       "      <td>69.99</td>\n",
       "      <td>0</td>\n",
       "      <td>[-1.15823309349523, 0.877736754848451, 1.54871...</td>\n",
       "    </tr>\n",
       "    <tr>\n",
       "      <th>3</th>\n",
       "      <td>-0.425966</td>\n",
       "      <td>0.960523</td>\n",
       "      <td>1.141109</td>\n",
       "      <td>-0.168252</td>\n",
       "      <td>0.420987</td>\n",
       "      <td>-0.029728</td>\n",
       "      <td>0.476201</td>\n",
       "      <td>0.260314</td>\n",
       "      <td>-0.568671</td>\n",
       "      <td>-0.371407</td>\n",
       "      <td>...</td>\n",
       "      <td>-0.559825</td>\n",
       "      <td>-0.026398</td>\n",
       "      <td>-0.371427</td>\n",
       "      <td>-0.232794</td>\n",
       "      <td>0.105915</td>\n",
       "      <td>0.253844</td>\n",
       "      <td>0.081080</td>\n",
       "      <td>3.67</td>\n",
       "      <td>0</td>\n",
       "      <td>[-0.425965884412454, 0.960523044882985, 1.1411...</td>\n",
       "    </tr>\n",
       "    <tr>\n",
       "      <th>4</th>\n",
       "      <td>1.229658</td>\n",
       "      <td>0.141004</td>\n",
       "      <td>0.045371</td>\n",
       "      <td>1.202613</td>\n",
       "      <td>0.191881</td>\n",
       "      <td>0.272708</td>\n",
       "      <td>-0.005159</td>\n",
       "      <td>0.081213</td>\n",
       "      <td>0.464960</td>\n",
       "      <td>-0.099254</td>\n",
       "      <td>...</td>\n",
       "      <td>-0.270710</td>\n",
       "      <td>-0.154104</td>\n",
       "      <td>-0.780055</td>\n",
       "      <td>0.750137</td>\n",
       "      <td>-0.257237</td>\n",
       "      <td>0.034507</td>\n",
       "      <td>0.005168</td>\n",
       "      <td>4.99</td>\n",
       "      <td>0</td>\n",
       "      <td>[1.22965763450793, 0.141003507049326, 0.045370...</td>\n",
       "    </tr>\n",
       "  </tbody>\n",
       "</table>\n",
       "<p>5 rows × 31 columns</p>\n",
       "</div>"
      ],
      "text/plain": [
       "         V1        V2        V3        V4        V5        V6        V7  \\\n",
       "0  1.191857  0.266151  0.166480  0.448154  0.060018 -0.082361 -0.078803   \n",
       "1 -1.358354 -1.340163  1.773209  0.379780 -0.503198  1.800499  0.791461   \n",
       "2 -1.158233  0.877737  1.548718  0.403034 -0.407193  0.095921  0.592941   \n",
       "3 -0.425966  0.960523  1.141109 -0.168252  0.420987 -0.029728  0.476201   \n",
       "4  1.229658  0.141004  0.045371  1.202613  0.191881  0.272708 -0.005159   \n",
       "\n",
       "         V8        V9       V10  ...       V22       V23       V24       V25  \\\n",
       "0  0.085102 -0.255425 -0.166974  ... -0.638672  0.101288 -0.339846  0.167170   \n",
       "1  0.247676 -1.514654  0.207643  ...  0.771679  0.909412 -0.689281 -0.327642   \n",
       "2 -0.270533  0.817739  0.753074  ...  0.798278 -0.137458  0.141267 -0.206010   \n",
       "3  0.260314 -0.568671 -0.371407  ... -0.559825 -0.026398 -0.371427 -0.232794   \n",
       "4  0.081213  0.464960 -0.099254  ... -0.270710 -0.154104 -0.780055  0.750137   \n",
       "\n",
       "        V26       V27       V28  Amount  Class  \\\n",
       "0  0.125895 -0.008983  0.014724    2.69      0   \n",
       "1 -0.139097 -0.055353 -0.059752  378.66      0   \n",
       "2  0.502292  0.219422  0.215153   69.99      0   \n",
       "3  0.105915  0.253844  0.081080    3.67      0   \n",
       "4 -0.257237  0.034507  0.005168    4.99      0   \n",
       "\n",
       "                                  features_for_model  \n",
       "0  [1.19185711131486, 0.26615071205963, 0.1664801...  \n",
       "1  [-1.35835406159823, -1.34016307473609, 1.77320...  \n",
       "2  [-1.15823309349523, 0.877736754848451, 1.54871...  \n",
       "3  [-0.425965884412454, 0.960523044882985, 1.1411...  \n",
       "4  [1.22965763450793, 0.141003507049326, 0.045370...  \n",
       "\n",
       "[5 rows x 31 columns]"
      ]
     },
     "execution_count": 60,
     "metadata": {},
     "output_type": "execute_result"
    }
   ],
   "source": [
    "# To see what model_df looks like (after Vector Assembler)\n",
    "model_df1.toPandas().head()"
   ]
  },
  {
   "cell_type": "code",
   "execution_count": 61,
   "id": "5e694a75",
   "metadata": {},
   "outputs": [
    {
     "data": {
      "text/html": [
       "<div>\n",
       "<style scoped>\n",
       "    .dataframe tbody tr th:only-of-type {\n",
       "        vertical-align: middle;\n",
       "    }\n",
       "\n",
       "    .dataframe tbody tr th {\n",
       "        vertical-align: top;\n",
       "    }\n",
       "\n",
       "    .dataframe thead th {\n",
       "        text-align: right;\n",
       "    }\n",
       "</style>\n",
       "<table border=\"1\" class=\"dataframe\">\n",
       "  <thead>\n",
       "    <tr style=\"text-align: right;\">\n",
       "      <th></th>\n",
       "      <th>V1</th>\n",
       "      <th>V2</th>\n",
       "      <th>V3</th>\n",
       "      <th>V4</th>\n",
       "      <th>V5</th>\n",
       "      <th>V6</th>\n",
       "      <th>V7</th>\n",
       "      <th>V8</th>\n",
       "      <th>V9</th>\n",
       "      <th>V10</th>\n",
       "      <th>...</th>\n",
       "      <th>V23</th>\n",
       "      <th>V24</th>\n",
       "      <th>V25</th>\n",
       "      <th>V26</th>\n",
       "      <th>V27</th>\n",
       "      <th>V28</th>\n",
       "      <th>Amount</th>\n",
       "      <th>Class</th>\n",
       "      <th>features_for_model</th>\n",
       "      <th>label</th>\n",
       "    </tr>\n",
       "  </thead>\n",
       "  <tbody>\n",
       "    <tr>\n",
       "      <th>0</th>\n",
       "      <td>1.191857</td>\n",
       "      <td>0.266151</td>\n",
       "      <td>0.166480</td>\n",
       "      <td>0.448154</td>\n",
       "      <td>0.060018</td>\n",
       "      <td>-0.082361</td>\n",
       "      <td>-0.078803</td>\n",
       "      <td>0.085102</td>\n",
       "      <td>-0.255425</td>\n",
       "      <td>-0.166974</td>\n",
       "      <td>...</td>\n",
       "      <td>0.101288</td>\n",
       "      <td>-0.339846</td>\n",
       "      <td>0.167170</td>\n",
       "      <td>0.125895</td>\n",
       "      <td>-0.008983</td>\n",
       "      <td>0.014724</td>\n",
       "      <td>2.69</td>\n",
       "      <td>0</td>\n",
       "      <td>[1.19185711131486, 0.26615071205963, 0.1664801...</td>\n",
       "      <td>0.0</td>\n",
       "    </tr>\n",
       "    <tr>\n",
       "      <th>1</th>\n",
       "      <td>-1.358354</td>\n",
       "      <td>-1.340163</td>\n",
       "      <td>1.773209</td>\n",
       "      <td>0.379780</td>\n",
       "      <td>-0.503198</td>\n",
       "      <td>1.800499</td>\n",
       "      <td>0.791461</td>\n",
       "      <td>0.247676</td>\n",
       "      <td>-1.514654</td>\n",
       "      <td>0.207643</td>\n",
       "      <td>...</td>\n",
       "      <td>0.909412</td>\n",
       "      <td>-0.689281</td>\n",
       "      <td>-0.327642</td>\n",
       "      <td>-0.139097</td>\n",
       "      <td>-0.055353</td>\n",
       "      <td>-0.059752</td>\n",
       "      <td>378.66</td>\n",
       "      <td>0</td>\n",
       "      <td>[-1.35835406159823, -1.34016307473609, 1.77320...</td>\n",
       "      <td>0.0</td>\n",
       "    </tr>\n",
       "    <tr>\n",
       "      <th>2</th>\n",
       "      <td>-1.158233</td>\n",
       "      <td>0.877737</td>\n",
       "      <td>1.548718</td>\n",
       "      <td>0.403034</td>\n",
       "      <td>-0.407193</td>\n",
       "      <td>0.095921</td>\n",
       "      <td>0.592941</td>\n",
       "      <td>-0.270533</td>\n",
       "      <td>0.817739</td>\n",
       "      <td>0.753074</td>\n",
       "      <td>...</td>\n",
       "      <td>-0.137458</td>\n",
       "      <td>0.141267</td>\n",
       "      <td>-0.206010</td>\n",
       "      <td>0.502292</td>\n",
       "      <td>0.219422</td>\n",
       "      <td>0.215153</td>\n",
       "      <td>69.99</td>\n",
       "      <td>0</td>\n",
       "      <td>[-1.15823309349523, 0.877736754848451, 1.54871...</td>\n",
       "      <td>0.0</td>\n",
       "    </tr>\n",
       "    <tr>\n",
       "      <th>3</th>\n",
       "      <td>-0.425966</td>\n",
       "      <td>0.960523</td>\n",
       "      <td>1.141109</td>\n",
       "      <td>-0.168252</td>\n",
       "      <td>0.420987</td>\n",
       "      <td>-0.029728</td>\n",
       "      <td>0.476201</td>\n",
       "      <td>0.260314</td>\n",
       "      <td>-0.568671</td>\n",
       "      <td>-0.371407</td>\n",
       "      <td>...</td>\n",
       "      <td>-0.026398</td>\n",
       "      <td>-0.371427</td>\n",
       "      <td>-0.232794</td>\n",
       "      <td>0.105915</td>\n",
       "      <td>0.253844</td>\n",
       "      <td>0.081080</td>\n",
       "      <td>3.67</td>\n",
       "      <td>0</td>\n",
       "      <td>[-0.425965884412454, 0.960523044882985, 1.1411...</td>\n",
       "      <td>0.0</td>\n",
       "    </tr>\n",
       "    <tr>\n",
       "      <th>4</th>\n",
       "      <td>1.229658</td>\n",
       "      <td>0.141004</td>\n",
       "      <td>0.045371</td>\n",
       "      <td>1.202613</td>\n",
       "      <td>0.191881</td>\n",
       "      <td>0.272708</td>\n",
       "      <td>-0.005159</td>\n",
       "      <td>0.081213</td>\n",
       "      <td>0.464960</td>\n",
       "      <td>-0.099254</td>\n",
       "      <td>...</td>\n",
       "      <td>-0.154104</td>\n",
       "      <td>-0.780055</td>\n",
       "      <td>0.750137</td>\n",
       "      <td>-0.257237</td>\n",
       "      <td>0.034507</td>\n",
       "      <td>0.005168</td>\n",
       "      <td>4.99</td>\n",
       "      <td>0</td>\n",
       "      <td>[1.22965763450793, 0.141003507049326, 0.045370...</td>\n",
       "      <td>0.0</td>\n",
       "    </tr>\n",
       "  </tbody>\n",
       "</table>\n",
       "<p>5 rows × 32 columns</p>\n",
       "</div>"
      ],
      "text/plain": [
       "         V1        V2        V3        V4        V5        V6        V7  \\\n",
       "0  1.191857  0.266151  0.166480  0.448154  0.060018 -0.082361 -0.078803   \n",
       "1 -1.358354 -1.340163  1.773209  0.379780 -0.503198  1.800499  0.791461   \n",
       "2 -1.158233  0.877737  1.548718  0.403034 -0.407193  0.095921  0.592941   \n",
       "3 -0.425966  0.960523  1.141109 -0.168252  0.420987 -0.029728  0.476201   \n",
       "4  1.229658  0.141004  0.045371  1.202613  0.191881  0.272708 -0.005159   \n",
       "\n",
       "         V8        V9       V10  ...       V23       V24       V25       V26  \\\n",
       "0  0.085102 -0.255425 -0.166974  ...  0.101288 -0.339846  0.167170  0.125895   \n",
       "1  0.247676 -1.514654  0.207643  ...  0.909412 -0.689281 -0.327642 -0.139097   \n",
       "2 -0.270533  0.817739  0.753074  ... -0.137458  0.141267 -0.206010  0.502292   \n",
       "3  0.260314 -0.568671 -0.371407  ... -0.026398 -0.371427 -0.232794  0.105915   \n",
       "4  0.081213  0.464960 -0.099254  ... -0.154104 -0.780055  0.750137 -0.257237   \n",
       "\n",
       "        V27       V28  Amount  Class  \\\n",
       "0 -0.008983  0.014724    2.69      0   \n",
       "1 -0.055353 -0.059752  378.66      0   \n",
       "2  0.219422  0.215153   69.99      0   \n",
       "3  0.253844  0.081080    3.67      0   \n",
       "4  0.034507  0.005168    4.99      0   \n",
       "\n",
       "                                  features_for_model  label  \n",
       "0  [1.19185711131486, 0.26615071205963, 0.1664801...    0.0  \n",
       "1  [-1.35835406159823, -1.34016307473609, 1.77320...    0.0  \n",
       "2  [-1.15823309349523, 0.877736754848451, 1.54871...    0.0  \n",
       "3  [-0.425965884412454, 0.960523044882985, 1.1411...    0.0  \n",
       "4  [1.22965763450793, 0.141003507049326, 0.045370...    0.0  \n",
       "\n",
       "[5 rows x 32 columns]"
      ]
     },
     "execution_count": 61,
     "metadata": {},
     "output_type": "execute_result"
    }
   ],
   "source": [
    "# To see what model_df looks like (after StringIndexer) - Where Class = 0\n",
    "model_df2.filter(F.col('Class')==0).toPandas().head()"
   ]
  },
  {
   "cell_type": "code",
   "execution_count": 62,
   "id": "0924e381",
   "metadata": {},
   "outputs": [
    {
     "data": {
      "text/html": [
       "<div>\n",
       "<style scoped>\n",
       "    .dataframe tbody tr th:only-of-type {\n",
       "        vertical-align: middle;\n",
       "    }\n",
       "\n",
       "    .dataframe tbody tr th {\n",
       "        vertical-align: top;\n",
       "    }\n",
       "\n",
       "    .dataframe thead th {\n",
       "        text-align: right;\n",
       "    }\n",
       "</style>\n",
       "<table border=\"1\" class=\"dataframe\">\n",
       "  <thead>\n",
       "    <tr style=\"text-align: right;\">\n",
       "      <th></th>\n",
       "      <th>V1</th>\n",
       "      <th>V2</th>\n",
       "      <th>V3</th>\n",
       "      <th>V4</th>\n",
       "      <th>V5</th>\n",
       "      <th>V6</th>\n",
       "      <th>V7</th>\n",
       "      <th>V8</th>\n",
       "      <th>V9</th>\n",
       "      <th>V10</th>\n",
       "      <th>...</th>\n",
       "      <th>V23</th>\n",
       "      <th>V24</th>\n",
       "      <th>V25</th>\n",
       "      <th>V26</th>\n",
       "      <th>V27</th>\n",
       "      <th>V28</th>\n",
       "      <th>Amount</th>\n",
       "      <th>Class</th>\n",
       "      <th>features_for_model</th>\n",
       "      <th>label</th>\n",
       "    </tr>\n",
       "  </thead>\n",
       "  <tbody>\n",
       "    <tr>\n",
       "      <th>0</th>\n",
       "      <td>-3.043541</td>\n",
       "      <td>-3.157307</td>\n",
       "      <td>1.088463</td>\n",
       "      <td>2.288644</td>\n",
       "      <td>1.359805</td>\n",
       "      <td>-1.064823</td>\n",
       "      <td>0.325574</td>\n",
       "      <td>-0.067794</td>\n",
       "      <td>-0.270953</td>\n",
       "      <td>-0.838587</td>\n",
       "      <td>...</td>\n",
       "      <td>1.375966</td>\n",
       "      <td>-0.293803</td>\n",
       "      <td>0.279798</td>\n",
       "      <td>-0.145362</td>\n",
       "      <td>-0.252773</td>\n",
       "      <td>0.035764</td>\n",
       "      <td>529.00</td>\n",
       "      <td>1</td>\n",
       "      <td>[-3.0435406239976, -3.15730712090228, 1.088462...</td>\n",
       "      <td>1.0</td>\n",
       "    </tr>\n",
       "    <tr>\n",
       "      <th>1</th>\n",
       "      <td>-2.303350</td>\n",
       "      <td>1.759247</td>\n",
       "      <td>-0.359745</td>\n",
       "      <td>2.330243</td>\n",
       "      <td>-0.821628</td>\n",
       "      <td>-0.075788</td>\n",
       "      <td>0.562320</td>\n",
       "      <td>-0.399147</td>\n",
       "      <td>-0.238253</td>\n",
       "      <td>-1.525412</td>\n",
       "      <td>...</td>\n",
       "      <td>0.172726</td>\n",
       "      <td>-0.087330</td>\n",
       "      <td>-0.156114</td>\n",
       "      <td>-0.542628</td>\n",
       "      <td>0.039566</td>\n",
       "      <td>-0.153029</td>\n",
       "      <td>239.93</td>\n",
       "      <td>1</td>\n",
       "      <td>[-2.30334956758553, 1.759247460267, -0.3597447...</td>\n",
       "      <td>1.0</td>\n",
       "    </tr>\n",
       "    <tr>\n",
       "      <th>2</th>\n",
       "      <td>1.234235</td>\n",
       "      <td>3.019740</td>\n",
       "      <td>-4.304597</td>\n",
       "      <td>4.732795</td>\n",
       "      <td>3.624201</td>\n",
       "      <td>-1.357746</td>\n",
       "      <td>1.713445</td>\n",
       "      <td>-0.496358</td>\n",
       "      <td>-1.282858</td>\n",
       "      <td>-2.447469</td>\n",
       "      <td>...</td>\n",
       "      <td>-0.656805</td>\n",
       "      <td>-1.632653</td>\n",
       "      <td>1.488901</td>\n",
       "      <td>0.566797</td>\n",
       "      <td>-0.010016</td>\n",
       "      <td>0.146793</td>\n",
       "      <td>1.00</td>\n",
       "      <td>1</td>\n",
       "      <td>[1.23423504613468, 3.0197404207034, -4.3045968...</td>\n",
       "      <td>1.0</td>\n",
       "    </tr>\n",
       "    <tr>\n",
       "      <th>3</th>\n",
       "      <td>0.008430</td>\n",
       "      <td>4.137837</td>\n",
       "      <td>-6.240697</td>\n",
       "      <td>6.675732</td>\n",
       "      <td>0.768307</td>\n",
       "      <td>-3.353060</td>\n",
       "      <td>-1.631735</td>\n",
       "      <td>0.154612</td>\n",
       "      <td>-2.795892</td>\n",
       "      <td>-6.187891</td>\n",
       "      <td>...</td>\n",
       "      <td>-0.539528</td>\n",
       "      <td>0.128940</td>\n",
       "      <td>1.488481</td>\n",
       "      <td>0.507963</td>\n",
       "      <td>0.735822</td>\n",
       "      <td>0.513574</td>\n",
       "      <td>1.00</td>\n",
       "      <td>1</td>\n",
       "      <td>[0.00843036489558254, 4.13783683497998, -6.240...</td>\n",
       "      <td>1.0</td>\n",
       "    </tr>\n",
       "    <tr>\n",
       "      <th>4</th>\n",
       "      <td>0.026779</td>\n",
       "      <td>4.132464</td>\n",
       "      <td>-6.560600</td>\n",
       "      <td>6.348557</td>\n",
       "      <td>1.329666</td>\n",
       "      <td>-2.513479</td>\n",
       "      <td>-1.689102</td>\n",
       "      <td>0.303253</td>\n",
       "      <td>-3.139409</td>\n",
       "      <td>-6.045468</td>\n",
       "      <td>...</td>\n",
       "      <td>-0.669605</td>\n",
       "      <td>-0.759908</td>\n",
       "      <td>1.605056</td>\n",
       "      <td>0.540675</td>\n",
       "      <td>0.737040</td>\n",
       "      <td>0.496699</td>\n",
       "      <td>1.00</td>\n",
       "      <td>1</td>\n",
       "      <td>[0.0267792264491516, 4.13246389713003, -6.5605...</td>\n",
       "      <td>1.0</td>\n",
       "    </tr>\n",
       "  </tbody>\n",
       "</table>\n",
       "<p>5 rows × 32 columns</p>\n",
       "</div>"
      ],
      "text/plain": [
       "         V1        V2        V3        V4        V5        V6        V7  \\\n",
       "0 -3.043541 -3.157307  1.088463  2.288644  1.359805 -1.064823  0.325574   \n",
       "1 -2.303350  1.759247 -0.359745  2.330243 -0.821628 -0.075788  0.562320   \n",
       "2  1.234235  3.019740 -4.304597  4.732795  3.624201 -1.357746  1.713445   \n",
       "3  0.008430  4.137837 -6.240697  6.675732  0.768307 -3.353060 -1.631735   \n",
       "4  0.026779  4.132464 -6.560600  6.348557  1.329666 -2.513479 -1.689102   \n",
       "\n",
       "         V8        V9       V10  ...       V23       V24       V25       V26  \\\n",
       "0 -0.067794 -0.270953 -0.838587  ...  1.375966 -0.293803  0.279798 -0.145362   \n",
       "1 -0.399147 -0.238253 -1.525412  ...  0.172726 -0.087330 -0.156114 -0.542628   \n",
       "2 -0.496358 -1.282858 -2.447469  ... -0.656805 -1.632653  1.488901  0.566797   \n",
       "3  0.154612 -2.795892 -6.187891  ... -0.539528  0.128940  1.488481  0.507963   \n",
       "4  0.303253 -3.139409 -6.045468  ... -0.669605 -0.759908  1.605056  0.540675   \n",
       "\n",
       "        V27       V28  Amount  Class  \\\n",
       "0 -0.252773  0.035764  529.00      1   \n",
       "1  0.039566 -0.153029  239.93      1   \n",
       "2 -0.010016  0.146793    1.00      1   \n",
       "3  0.735822  0.513574    1.00      1   \n",
       "4  0.737040  0.496699    1.00      1   \n",
       "\n",
       "                                  features_for_model  label  \n",
       "0  [-3.0435406239976, -3.15730712090228, 1.088462...    1.0  \n",
       "1  [-2.30334956758553, 1.759247460267, -0.3597447...    1.0  \n",
       "2  [1.23423504613468, 3.0197404207034, -4.3045968...    1.0  \n",
       "3  [0.00843036489558254, 4.13783683497998, -6.240...    1.0  \n",
       "4  [0.0267792264491516, 4.13246389713003, -6.5605...    1.0  \n",
       "\n",
       "[5 rows x 32 columns]"
      ]
     },
     "execution_count": 62,
     "metadata": {},
     "output_type": "execute_result"
    }
   ],
   "source": [
    "# To see what model_df looks like (after StringIndexer) - Where Class = 1\n",
    "model_df2.filter(F.col('Class')==1).toPandas().head()"
   ]
  },
  {
   "cell_type": "code",
   "execution_count": 63,
   "id": "14ce4ce1",
   "metadata": {},
   "outputs": [],
   "source": [
    "def preprocess_data(df):\n",
    "    # Assemble the features into a Vector to feed the Model.\n",
    "    feature_list = ['V1', 'V2', 'V3', 'V4' ,'V5', 'V6', 'V7', 'V8', 'V9', 'V10', 'V11', 'V12', 'V13', 'V14', 'V15', 'V16', 'V17', 'V18', 'V19', 'V20', 'V21', 'V22', 'V23', 'V24', 'V25', 'V26', 'V27', 'V28',  'Amount']\n",
    "    assembler = VectorAssembler(inputCols=feature_list, outputCol='features_for_model')\n",
    "    model_df1 = assembler.transform(df)\n",
    "\n",
    "    #Convert the label from String to Numeric using a StringIndexer\n",
    "    indexer = StringIndexer(inputCol='Class', outputCol='label')\n",
    "    model_df2 = indexer.fit(model_df1).transform(model_df1)\n",
    "    \n",
    "    return model_df2\n",
    "\n",
    "def train_model(train_df, smote=0):\n",
    "    if smote == 0:\n",
    "        model_df = preprocess_data(train_df)\n",
    "    elif smote == 1:\n",
    "        model_df = train_df\n",
    "    \n",
    "    # Initiate the Random Forest Classifier Model\n",
    "    rf = RandomForestClassifier(featuresCol='features_for_model', labelCol='label', seed=88)\n",
    "    rf_model = rf.fit(model_df)\n",
    "    \n",
    "    return rf_model\n",
    "\n",
    "def test_model(test_df, model):\n",
    "    model_df = preprocess_data(test_df)\n",
    "    \n",
    "    prediction = model.transform(model_df)\n",
    "    \n",
    "    return prediction"
   ]
  },
  {
   "cell_type": "code",
   "execution_count": 64,
   "id": "fda515f5",
   "metadata": {},
   "outputs": [],
   "source": [
    "# Initiate the Random Forest Classifier Model\n",
    "rf_model = train_model(train_data)"
   ]
  },
  {
   "cell_type": "code",
   "execution_count": 65,
   "id": "a105a4be",
   "metadata": {},
   "outputs": [
    {
     "name": "stdout",
     "output_type": "stream",
     "text": [
      "         V1        V2        V3        V4        V5        V6        V7  \\\n",
      "0 -8.553323  7.694079 -4.527267 -3.343985  0.178842 -1.287124  1.677346   \n",
      "1 -4.139076  3.695478 -4.292794 -1.508974  0.088809 -0.381004 -0.362294   \n",
      "2 -1.683524 -1.325884  1.969185  0.787234 -0.860908  1.010622  0.438096   \n",
      "3 -1.602527  1.189053  2.803170  1.358254 -1.149669  2.229995 -2.754271   \n",
      "4 -1.359972  0.024813  1.641208 -2.085151  0.452622 -0.314823  0.646584   \n",
      "\n",
      "         V8        V9        V10  ...       V26       V27       V28  Amount  \\\n",
      "0 -0.413169  8.294218  11.723651  ... -0.031669  2.529364  0.630107    3.69   \n",
      "1 -0.557715  1.515456   3.148297  ...  0.192309  0.144097 -0.319990    2.27   \n",
      "2  0.491340 -0.082663  -0.574957  ...  0.780334 -0.082449  0.101059  378.00   \n",
      "3 -4.855500  0.853996  -1.616179  ... -0.222649 -0.038778 -0.060856    1.00   \n",
      "4  0.267905  0.145438  -1.151356  ...  0.734146  0.100639  0.091273   76.05   \n",
      "\n",
      "   Class                                 features_for_model  label  \\\n",
      "0      0  [-8.55332335293339, 7.69407867248581, -4.52726...    0.0   \n",
      "1      0  [-4.1390762339233, 3.69547789430111, -4.292794...    0.0   \n",
      "2      0  [-1.68352381394862, -1.32588408876707, 1.96918...    0.0   \n",
      "3      0  [-1.60252680343702, 1.18905344633694, 2.803170...    0.0   \n",
      "4      0  [-1.35997187814545, 0.0248129514293923, 1.6412...    0.0   \n",
      "\n",
      "                                rawPrediction  \\\n",
      "0    [19.98539267008403, 0.01460732991597244]   \n",
      "1     [19.994576158834967, 0.005423841165036]   \n",
      "2  [19.995601176542117, 0.004398823457884062]   \n",
      "3   [19.98440454290067, 0.015595457099330289]   \n",
      "4  [19.995601176542117, 0.004398823457884062]   \n",
      "\n",
      "                                    probability  prediction  \n",
      "0   [0.9992696335042014, 0.0007303664957986221]         0.0  \n",
      "1  [0.9997288079417481, 0.00027119205825179994]         0.0  \n",
      "2   [0.9997800588271059, 0.0002199411728942031]         0.0  \n",
      "3   [0.9992202271450334, 0.0007797728549665144]         0.0  \n",
      "4   [0.9997800588271059, 0.0002199411728942031]         0.0  \n",
      "\n",
      "[5 rows x 35 columns]\n"
     ]
    }
   ],
   "source": [
    "# Test the Model\n",
    "prediction = test_model(test_data, rf_model)\n",
    "\n",
    "# To see what the output looks like. There will be additional columns.\n",
    "# rawPrediction, probability, prediction\n",
    "print(prediction.toPandas().head())"
   ]
  },
  {
   "cell_type": "code",
   "execution_count": 66,
   "id": "ed8b3d40",
   "metadata": {},
   "outputs": [],
   "source": [
    "# Evaluate the model using a BinaryClassificationEvaluator\n",
    "evaluator = BinaryClassificationEvaluator(labelCol='label')\n",
    "auroc = evaluator.evaluate(prediction,{evaluator.metricName:'areaUnderROC'})\n",
    "aupr = evaluator.evaluate(prediction,{evaluator.metricName:'areaUnderPR'})\n",
    "\n",
    "# print(f\"AUROC: {auroc}\")\n",
    "# print(f\"AUPR: {aupr}\")"
   ]
  },
  {
   "cell_type": "code",
   "execution_count": 67,
   "id": "96377712",
   "metadata": {},
   "outputs": [
    {
     "name": "stderr",
     "output_type": "stream",
     "text": [
      "c:\\Users\\mcmar\\Downloads\\.conda\\Lib\\site-packages\\pyspark\\sql\\context.py:158: FutureWarning: Deprecated in 3.0.0. Use SparkSession.builder.getOrCreate() instead.\n",
      "  warnings.warn(\n"
     ]
    }
   ],
   "source": [
    "# Evaluate using MultiClass Metrics\n",
    "pred_rdd = prediction.select('prediction','label').rdd.map(tuple)\n",
    "metrics = MulticlassMetrics(pred_rdd)\n",
    "accuracy_o = metrics.accuracy   # Positive class\n",
    "precision_o = metrics.precision(1.0)  # Positive class\n",
    "recall_o = metrics.recall(1.0)  # Positive class\n",
    "f1_o = metrics.fMeasure(1.0)  # Positive class\n",
    "\n",
    "# print(\"Accuracy:\", accuracy_o)\n",
    "# print(\"Precision:\", precision_o)\n",
    "# print(\"Recall:\", recall_o)\n",
    "# print(\"F1-score:\", f1_o)"
   ]
  },
  {
   "cell_type": "code",
   "execution_count": 68,
   "id": "e9c1543b",
   "metadata": {},
   "outputs": [
    {
     "name": "stdout",
     "output_type": "stream",
     "text": [
      "DenseMatrix([[5.402e+04, 1.500e+01],\n",
      "             [2.100e+01, 6.800e+01]])\n"
     ]
    },
    {
     "name": "stderr",
     "output_type": "stream",
     "text": [
      "C:\\Users\\mcmar\\AppData\\Local\\Temp\\ipykernel_31200\\1843384171.py:15: UserWarning: set_ticklabels() should only be used with a fixed number of ticks, i.e. after set_ticks() or using a FixedLocator.\n",
      "  ax.set_xticklabels([''] + labels)\n",
      "C:\\Users\\mcmar\\AppData\\Local\\Temp\\ipykernel_31200\\1843384171.py:16: UserWarning: set_ticklabels() should only be used with a fixed number of ticks, i.e. after set_ticks() or using a FixedLocator.\n",
      "  ax.set_yticklabels([''] + labels)\n"
     ]
    },
    {
     "data": {
      "image/png": "[encoded data removed]",
      "text/plain": [
       "<Figure size 640x480 with 2 Axes>"
      ]
     },
     "metadata": {},
     "output_type": "display_data"
    }
   ],
   "source": [
    "# Returns confusion matrix: predicted classes are in columns, they are ordered by class label ascending, as in “labels”.\n",
    "# Meaning 0 1 in columns. Rows also 0 then 1.\n",
    "print(metrics.confusionMatrix())\n",
    "\n",
    "confusion_matrix = metrics.confusionMatrix().toArray()\n",
    "labels = ['Class 0', 'Class 1']\n",
    "fig = plt.figure()\n",
    "ax = fig.add_subplot(111)\n",
    "cax = ax.matshow(confusion_matrix, cmap=plt.cm.Blues)\n",
    "# Add actual values to the cells\n",
    "for i in range(len(labels)):\n",
    "    for j in range(len(labels)):\n",
    "        plt.text(j, i, str(int(confusion_matrix[i, j])), fontsize=12, ha='center', va='center', color='red')\n",
    "fig.colorbar(cax)\n",
    "ax.set_xticklabels([''] + labels)\n",
    "ax.set_yticklabels([''] + labels)\n",
    "plt.xlabel('Predicted')\n",
    "plt.ylabel('Expected')\n",
    "plt.show()\n"
   ]
  },
  {
   "cell_type": "code",
   "execution_count": 69,
   "id": "b543d7ca",
   "metadata": {},
   "outputs": [],
   "source": [
    "# Traditional way to evaluate TN/TP/FP/FN\n",
    "# Countercheck with confusion matrix above.\n",
    "tn = prediction.filter((F.col('label')==0)&(F.col('prediction')==0)).count()\n",
    "tp = prediction.filter((F.col('label')==1)&(F.col('prediction')==1)).count()\n",
    "fp = prediction.filter((F.col('label')==0)&(F.col('prediction')==1)).count()\n",
    "fn = prediction.filter((F.col('label')==1)&(F.col('prediction')==0)).count()\n",
    "\n",
    "# print(f\"TN: {tn}\")\n",
    "# print(f\"TP: {tp}\")\n",
    "# print(f\"FP: {fp}\")\n",
    "# print(f\"FN: {fn}\")"
   ]
  },
  {
   "cell_type": "code",
   "execution_count": 70,
   "id": "25a4a77a",
   "metadata": {},
   "outputs": [],
   "source": [
    "resultsTable.add_row([\"Baseline\" ,auroc, recall_o, accuracy_o, tn,tp,fp,fn]) "
   ]
  },
  {
   "cell_type": "markdown",
   "id": "2111adf2",
   "metadata": {},
   "source": [
    "### Undersampling Majority"
   ]
  },
  {
   "cell_type": "code",
   "execution_count": 71,
   "id": "fc4c37ae",
   "metadata": {},
   "outputs": [],
   "source": [
    "# Create undersampling function\n",
    "def undersample_majority(df, ratio=1):\n",
    "    '''\n",
    "    ratio is the ratio of majority to minority\n",
    "    Eg. ratio 1 is equivalent to majority:minority = 1:1\n",
    "    ratio 5 is equivalent to majority:minority = 5:1\n",
    "    '''\n",
    "    minority_count = df.filter(F.col('class')==1).count()\n",
    "    whole_count = df.count()\n",
    "    undersampled_majority = df.filter(F.col('class')==0)\\\n",
    "                                .sample(withReplacement=False, fraction=(ratio*minority_count/whole_count),seed=88)\n",
    "    undersampled_df = df.filter(F.col('class')==1).union(undersampled_majority)\n",
    "    \n",
    "    return undersampled_df"
   ]
  },
  {
   "cell_type": "code",
   "execution_count": 72,
   "id": "c29685d4",
   "metadata": {},
   "outputs": [],
   "source": [
    "# Create evaluation function\n",
    "def evaluate_test_data(test_df, model, description):\n",
    "    model_df = preprocess_data(test_df)\n",
    "    prediction = model.transform(model_df)\n",
    "    \n",
    "    # Evaluate the model using a BinaryClassificationEvaluator\n",
    "    evaluator = BinaryClassificationEvaluator(labelCol='label')\n",
    "    auroc = evaluator.evaluate(prediction,{evaluator.metricName:'areaUnderROC'})\n",
    "    aupr = evaluator.evaluate(prediction,{evaluator.metricName:'areaUnderPR'})\n",
    "\n",
    "    # print(f\"AUROC: {auroc}\")\n",
    "    # print(f\"AUPR: {aupr}\")\n",
    "    \n",
    "    # Evaluate using MultiClass Metrics\n",
    "    pred_rdd = prediction.select('prediction','label').rdd.map(tuple)\n",
    "    metrics = MulticlassMetrics(pred_rdd)\n",
    "    accuracy_o = metrics.accuracy   # Positive class\n",
    "    precision_o = metrics.precision(1.0)  # Positive class\n",
    "    recall_o = metrics.recall(1.0)  # Positive class\n",
    "    f1_o = metrics.fMeasure(1.0)  # Positive class\n",
    "\n",
    "    # print(\"Accuracy:\", accuracy_o)\n",
    "    # print(\"Precision:\", precision_o)\n",
    "    # print(\"Recall:\", recall_o)\n",
    "    # print(\"F1-score:\", f1_o)\n",
    "    \n",
    "    confusion_matrix = metrics.confusionMatrix().toArray()\n",
    "    labels = ['Class 0', 'Class 1']\n",
    "    fig = plt.figure()\n",
    "    ax = fig.add_subplot(111)\n",
    "    cax = ax.matshow(confusion_matrix, cmap=plt.cm.Blues)\n",
    "    # Add actual values to the cells\n",
    "    for i in range(len(labels)):\n",
    "        for j in range(len(labels)):\n",
    "            plt.text(j, i, str(int(confusion_matrix[i, j])), fontsize=12, ha='center', va='center', color='red')\n",
    "    fig.colorbar(cax)\n",
    "    ax.set_xticklabels([''] + labels)\n",
    "    ax.set_yticklabels([''] + labels)\n",
    "    plt.xlabel('Predicted')\n",
    "    plt.ylabel('Expected')\n",
    "    plt.show()\n",
    "\n",
    "    # Traditional way to evaluate TN/TP/FP/FN\n",
    "    # Countercheck with confusion matrix above.\n",
    "    tn = prediction.filter((F.col('label')==0)&(F.col('prediction')==0)).count()\n",
    "    tp = prediction.filter((F.col('label')==1)&(F.col('prediction')==1)).count()\n",
    "    fp = prediction.filter((F.col('label')==0)&(F.col('prediction')==1)).count()\n",
    "    fn = prediction.filter((F.col('label')==1)&(F.col('prediction')==0)).count()\n",
    "\n",
    "    # print(f\"TN: {tn}\")\n",
    "    # print(f\"TP: {tp}\")\n",
    "    # print(f\"FP: {fp}\")\n",
    "    # print(f\"FN: {fn}\")\n",
    "    \n",
    "    resultsTable.add_row([description ,auroc, recall_o, accuracy_o, tn,tp,fp,fn]) \n"
   ]
  },
  {
   "cell_type": "code",
   "execution_count": 73,
   "id": "4372befe",
   "metadata": {},
   "outputs": [
    {
     "name": "stderr",
     "output_type": "stream",
     "text": [
      "c:\\Users\\mcmar\\Downloads\\.conda\\Lib\\site-packages\\pyspark\\sql\\context.py:158: FutureWarning: Deprecated in 3.0.0. Use SparkSession.builder.getOrCreate() instead.\n",
      "  warnings.warn(\n",
      "C:\\Users\\mcmar\\AppData\\Local\\Temp\\ipykernel_31200\\3716567219.py:37: UserWarning: set_ticklabels() should only be used with a fixed number of ticks, i.e. after set_ticks() or using a FixedLocator.\n",
      "  ax.set_xticklabels([''] + labels)\n",
      "C:\\Users\\mcmar\\AppData\\Local\\Temp\\ipykernel_31200\\3716567219.py:38: UserWarning: set_ticklabels() should only be used with a fixed number of ticks, i.e. after set_ticks() or using a FixedLocator.\n",
      "  ax.set_yticklabels([''] + labels)\n"
     ]
    },
    {
     "data": {
      "image/png": "[encoded data removed]",
      "text/plain": [
       "<Figure size 640x480 with 2 Axes>"
      ]
     },
     "metadata": {},
     "output_type": "display_data"
    }
   ],
   "source": [
    "# Evaluate Undersampling 1:1\n",
    "undersampled_train_df_1_1 = undersample_majority(train_data,1)\n",
    "rf_model1 = train_model(undersampled_train_df_1_1)\n",
    "evaluate_test_data(test_data, rf_model1,\"Undersampling 1:1\")"
   ]
  },
  {
   "cell_type": "code",
   "execution_count": 74,
   "id": "3a6cd76c",
   "metadata": {},
   "outputs": [
    {
     "name": "stderr",
     "output_type": "stream",
     "text": [
      "c:\\Users\\mcmar\\Downloads\\.conda\\Lib\\site-packages\\pyspark\\sql\\context.py:158: FutureWarning: Deprecated in 3.0.0. Use SparkSession.builder.getOrCreate() instead.\n",
      "  warnings.warn(\n",
      "C:\\Users\\mcmar\\AppData\\Local\\Temp\\ipykernel_31200\\3716567219.py:37: UserWarning: set_ticklabels() should only be used with a fixed number of ticks, i.e. after set_ticks() or using a FixedLocator.\n",
      "  ax.set_xticklabels([''] + labels)\n",
      "C:\\Users\\mcmar\\AppData\\Local\\Temp\\ipykernel_31200\\3716567219.py:38: UserWarning: set_ticklabels() should only be used with a fixed number of ticks, i.e. after set_ticks() or using a FixedLocator.\n",
      "  ax.set_yticklabels([''] + labels)\n"
     ]
    },
    {
     "data": {
      "image/png": "[encoded data removed]",
      "text/plain": [
       "<Figure size 640x480 with 2 Axes>"
      ]
     },
     "metadata": {},
     "output_type": "display_data"
    }
   ],
   "source": [
    "# Evaluate Undersampling 1:2\n",
    "undersampled_train_df_1_2 = undersample_majority(train_data,2)\n",
    "rf_model2 = train_model(undersampled_train_df_1_2)\n",
    "evaluate_test_data(test_data, rf_model2,\"Undersampling 1:2\")"
   ]
  },
  {
   "cell_type": "code",
   "execution_count": 75,
   "id": "ecc4c9b8",
   "metadata": {},
   "outputs": [
    {
     "name": "stderr",
     "output_type": "stream",
     "text": [
      "c:\\Users\\mcmar\\Downloads\\.conda\\Lib\\site-packages\\pyspark\\sql\\context.py:158: FutureWarning: Deprecated in 3.0.0. Use SparkSession.builder.getOrCreate() instead.\n",
      "  warnings.warn(\n",
      "C:\\Users\\mcmar\\AppData\\Local\\Temp\\ipykernel_31200\\3716567219.py:37: UserWarning: set_ticklabels() should only be used with a fixed number of ticks, i.e. after set_ticks() or using a FixedLocator.\n",
      "  ax.set_xticklabels([''] + labels)\n",
      "C:\\Users\\mcmar\\AppData\\Local\\Temp\\ipykernel_31200\\3716567219.py:38: UserWarning: set_ticklabels() should only be used with a fixed number of ticks, i.e. after set_ticks() or using a FixedLocator.\n",
      "  ax.set_yticklabels([''] + labels)\n"
     ]
    },
    {
     "data": {
      "image/png": "[encoded data removed]",
      "text/plain": [
       "<Figure size 640x480 with 2 Axes>"
      ]
     },
     "metadata": {},
     "output_type": "display_data"
    }
   ],
   "source": [
    "# Evaluate Undersampling 1:5\n",
    "undersampled_train_df_1_5 = undersample_majority(train_data,5)\n",
    "rf_model3 = train_model(undersampled_train_df_1_5)\n",
    "evaluate_test_data(test_data, rf_model3,\"Undersampling 1:5\")"
   ]
  },
  {
   "cell_type": "markdown",
   "id": "8f851967",
   "metadata": {},
   "source": [
    "### Oversampling Minority"
   ]
  },
  {
   "cell_type": "code",
   "execution_count": 76,
   "id": "3524048a",
   "metadata": {},
   "outputs": [],
   "source": [
    "# Create undersampling function\n",
    "def oversample_minority(df, ratio=1):\n",
    "    '''\n",
    "    ratio is the ratio of majority to minority\n",
    "    Eg. ratio 1 is equivalent to majority:minority = 1:1\n",
    "    ratio 5 is equivalent to majority:minority = 5:1\n",
    "    '''\n",
    "    minority_count = df.filter(F.col('class')==1).count()\n",
    "    majority_count = df.filter(F.col('class')==0).count()\n",
    "    \n",
    "    balance_ratio = majority_count / minority_count\n",
    "    \n",
    "    print(f\"Initial Majority:Minority ratio is {balance_ratio:.2f}:1\")\n",
    "    if ratio >= balance_ratio:\n",
    "        print(\"No oversampling of minority was done as the input ratio was more than or equal to the initial ratio.\")\n",
    "    else:\n",
    "        print(f\"Oversampling of minority done such that Majority:Minority ratio is {ratio}:1\")\n",
    "    \n",
    "    oversampled_minority = df.filter(F.col('class')==1)\\\n",
    "                                .sample(withReplacement=True, fraction=(balance_ratio/ratio),seed=88)\n",
    "    oversampled_df = df.filter(F.col('class')==0).union(oversampled_minority)\n",
    "    \n",
    "    return oversampled_df"
   ]
  },
  {
   "cell_type": "code",
   "execution_count": 77,
   "id": "f149ab80",
   "metadata": {},
   "outputs": [
    {
     "name": "stdout",
     "output_type": "stream",
     "text": [
      "Initial Majority:Minority ratio is 574.62:1\n",
      "Oversampling of minority done such that Majority:Minority ratio is 1:1\n"
     ]
    },
    {
     "name": "stderr",
     "output_type": "stream",
     "text": [
      "c:\\Users\\mcmar\\Downloads\\.conda\\Lib\\site-packages\\pyspark\\sql\\context.py:158: FutureWarning: Deprecated in 3.0.0. Use SparkSession.builder.getOrCreate() instead.\n",
      "  warnings.warn(\n",
      "C:\\Users\\mcmar\\AppData\\Local\\Temp\\ipykernel_31200\\3716567219.py:37: UserWarning: set_ticklabels() should only be used with a fixed number of ticks, i.e. after set_ticks() or using a FixedLocator.\n",
      "  ax.set_xticklabels([''] + labels)\n",
      "C:\\Users\\mcmar\\AppData\\Local\\Temp\\ipykernel_31200\\3716567219.py:38: UserWarning: set_ticklabels() should only be used with a fixed number of ticks, i.e. after set_ticks() or using a FixedLocator.\n",
      "  ax.set_yticklabels([''] + labels)\n"
     ]
    },
    {
     "data": {
      "image/png": "[encoded data removed]",
      "text/plain": [
       "<Figure size 640x480 with 2 Axes>"
      ]
     },
     "metadata": {},
     "output_type": "display_data"
    }
   ],
   "source": [
    "# Train 3 different oversamplings\n",
    "# Evaluate Oversampling 1:1\n",
    "oversampled_train_df_1_1 = oversample_minority(train_data,1)\n",
    "rf_model4 = train_model(oversampled_train_df_1_1)\n",
    "evaluate_test_data(test_data, rf_model4,\"Oversampling 1:1\")"
   ]
  },
  {
   "cell_type": "code",
   "execution_count": 78,
   "id": "67090eba",
   "metadata": {},
   "outputs": [
    {
     "name": "stdout",
     "output_type": "stream",
     "text": [
      "Initial Majority:Minority ratio is 574.62:1\n",
      "Oversampling of minority done such that Majority:Minority ratio is 2:1\n"
     ]
    },
    {
     "name": "stderr",
     "output_type": "stream",
     "text": [
      "c:\\Users\\mcmar\\Downloads\\.conda\\Lib\\site-packages\\pyspark\\sql\\context.py:158: FutureWarning: Deprecated in 3.0.0. Use SparkSession.builder.getOrCreate() instead.\n",
      "  warnings.warn(\n",
      "C:\\Users\\mcmar\\AppData\\Local\\Temp\\ipykernel_31200\\3716567219.py:37: UserWarning: set_ticklabels() should only be used with a fixed number of ticks, i.e. after set_ticks() or using a FixedLocator.\n",
      "  ax.set_xticklabels([''] + labels)\n",
      "C:\\Users\\mcmar\\AppData\\Local\\Temp\\ipykernel_31200\\3716567219.py:38: UserWarning: set_ticklabels() should only be used with a fixed number of ticks, i.e. after set_ticks() or using a FixedLocator.\n",
      "  ax.set_yticklabels([''] + labels)\n"
     ]
    },
    {
     "data": {
      "image/png": "[encoded data removed]",
      "text/plain": [
       "<Figure size 640x480 with 2 Axes>"
      ]
     },
     "metadata": {},
     "output_type": "display_data"
    }
   ],
   "source": [
    "# Evaluate Oversampling 1:2\n",
    "oversampled_train_df_1_2 = oversample_minority(train_data,2)\n",
    "rf_model5 = train_model(oversampled_train_df_1_2)\n",
    "evaluate_test_data(test_data, rf_model5,\"Oversampling 1:2\")"
   ]
  },
  {
   "cell_type": "code",
   "execution_count": 79,
   "id": "84c74a24",
   "metadata": {},
   "outputs": [
    {
     "name": "stdout",
     "output_type": "stream",
     "text": [
      "Initial Majority:Minority ratio is 574.62:1\n",
      "Oversampling of minority done such that Majority:Minority ratio is 5:1\n"
     ]
    },
    {
     "name": "stderr",
     "output_type": "stream",
     "text": [
      "c:\\Users\\mcmar\\Downloads\\.conda\\Lib\\site-packages\\pyspark\\sql\\context.py:158: FutureWarning: Deprecated in 3.0.0. Use SparkSession.builder.getOrCreate() instead.\n",
      "  warnings.warn(\n",
      "C:\\Users\\mcmar\\AppData\\Local\\Temp\\ipykernel_31200\\3716567219.py:37: UserWarning: set_ticklabels() should only be used with a fixed number of ticks, i.e. after set_ticks() or using a FixedLocator.\n",
      "  ax.set_xticklabels([''] + labels)\n",
      "C:\\Users\\mcmar\\AppData\\Local\\Temp\\ipykernel_31200\\3716567219.py:38: UserWarning: set_ticklabels() should only be used with a fixed number of ticks, i.e. after set_ticks() or using a FixedLocator.\n",
      "  ax.set_yticklabels([''] + labels)\n"
     ]
    },
    {
     "data": {
      "image/png": "[encoded data removed]",
      "text/plain": [
       "<Figure size 640x480 with 2 Axes>"
      ]
     },
     "metadata": {},
     "output_type": "display_data"
    }
   ],
   "source": [
    "# Evaluate Oversampling 1:5\n",
    "oversampled_train_df_1_5 = oversample_minority(train_data,5)\n",
    "rf_model6 = train_model(oversampled_train_df_1_5)\n",
    "evaluate_test_data(test_data, rf_model6,\"Oversampling 1:5\")"
   ]
  },
  {
   "cell_type": "markdown",
   "id": "ff10abb0",
   "metadata": {},
   "source": [
    "### Oversampling using SMOTE  "
   ]
  },
  {
   "cell_type": "code",
   "execution_count": 80,
   "id": "bc4dd3ab",
   "metadata": {},
   "outputs": [],
   "source": [
    "\n",
    "\n",
    "import random\n",
    "import numpy as np\n",
    "from functools import reduce\n",
    "from pyspark.sql import DataFrame, SparkSession, Row\n",
    "import pyspark.sql.functions as F\n",
    "from pyspark.sql.functions import array, create_map, struct, rand,col,when,concat,substring,lit,udf,lower,sum as ps_sum,count as ps_count,row_number\n",
    "from pyspark.sql.window import *\n",
    "from pyspark.sql.window import Window\n",
    "from pyspark.sql.types import StructField, StructType, StringType, IntegerType, LongType\n",
    "from pyspark.ml.feature import VectorAssembler,BucketedRandomProjectionLSH,VectorSlicer,StringIndexer\n",
    "from pyspark.ml.linalg import Vectors, VectorUDT, SparseVector, DenseVector\n",
    "from pyspark.ml import Pipeline\n",
    "\n",
    "def pre_smote_df_process(df,num_cols,cat_cols,target_col,index_suffix=\"_index\"):\n",
    "    '''\n",
    "    string indexer and vector assembler\n",
    "    inputs:\n",
    "    * df: spark df, original\n",
    "    * num_cols: numerical cols to be assembled\n",
    "    * cat_cols: categorical cols to be stringindexed\n",
    "    * target_col: prediction target\n",
    "    * index_suffix: will be the suffix after string indexing\n",
    "    output:\n",
    "    * vectorized: spark df, after stringindex and vector assemble, ready for smote\n",
    "    '''\n",
    "    if(df.select(target_col).distinct().count() != 2):\n",
    "         raise ValueError(\"Target col must have exactly 2 classes\")\n",
    "        \n",
    "    if target_col in num_cols:\n",
    "        num_cols.remove(target_col)\n",
    "\n",
    "    # only assembled numeric columns into features\n",
    "    assembler = VectorAssembler(inputCols = num_cols, outputCol = 'features_for_model')\n",
    "    # index the string cols, except possibly for the label col\n",
    "    assemble_stages = [StringIndexer(inputCol=column, outputCol=column+index_suffix) for column in list(set(cat_cols)-set([target_col]))]\n",
    "    # add the stage of numerical vector assembler\n",
    "    assemble_stages.append(assembler)\n",
    "    pipeline = Pipeline(stages=assemble_stages)\n",
    "    pos_vectorized = pipeline.fit(df).transform(df)\n",
    "    \n",
    "    # drop original num cols and cat cols\n",
    "    drop_cols = num_cols+cat_cols\n",
    "    \n",
    "    keep_cols = [a for a in pos_vectorized.columns if a not in drop_cols]\n",
    "    \n",
    "    vectorized = pos_vectorized.select(*keep_cols).withColumn('label',pos_vectorized[target_col]).drop(target_col)\n",
    "    \n",
    "    return vectorized\n",
    "\n",
    "def subtract_vector_fn(arr):\n",
    "    a = arr[0]\n",
    "    b = arr[1]\n",
    "    \n",
    "    if isinstance(a, SparseVector):\n",
    "        a = a.toArray()\n",
    "        \n",
    "    if isinstance(b, SparseVector):\n",
    "        b = b.toArray()\n",
    "    \n",
    "    return DenseVector(random.uniform(0, 1)*(a-b))\n",
    "    \n",
    "def add_vector_fn(arr):\n",
    "    a = arr[0]\n",
    "    b = arr[1]\n",
    "    \n",
    "    if isinstance(a, SparseVector):\n",
    "        a = a.toArray()\n",
    "        \n",
    "    if isinstance(b, SparseVector):\n",
    "        b = b.toArray()\n",
    "    \n",
    "    return DenseVector(a+b)\n",
    "\n",
    "def smote(vectorized_sdf,smote_config):\n",
    "    '''\n",
    "    contains logic to perform smote oversampling, given a spark df with 2 classes\n",
    "    inputs:\n",
    "    * vectorized_sdf: cat cols are already stringindexed, num cols are assembled into 'features' vector\n",
    "      df target col should be 'label'\n",
    "    * smote_config: config obj containing smote parameters\n",
    "    output:\n",
    "    * oversampled_df: spark df after smote oversampling\n",
    "    '''\n",
    "    dataInput_min = vectorized_sdf[vectorized_sdf['label'] == smote_config.positive_label]\n",
    "    dataInput_maj = vectorized_sdf[vectorized_sdf['label'] == smote_config.negative_label]\n",
    "    \n",
    "    # LSH, bucketed random projection\n",
    "    brp = BucketedRandomProjectionLSH(inputCol=\"features_for_model\", outputCol=\"hashes\",seed=int(smote_config.seed),\\\n",
    "                                      bucketLength=float(smote_config.bucketLength))\n",
    "    # smote only applies on existing minority instances    \n",
    "    model = brp.fit(dataInput_min)\n",
    "    model.transform(dataInput_min)\n",
    "\n",
    "    # here distance is calculated from brp's param inputCol\n",
    "    self_join_w_distance = model.approxSimilarityJoin(dataInput_min, dataInput_min, float('inf'), distCol=\"EuclideanDistance\")\n",
    "\n",
    "    # remove self-comparison (distance 0)\n",
    "    self_join_w_distance = self_join_w_distance.filter(self_join_w_distance.EuclideanDistance > 0)\n",
    "\n",
    "    over_original_rows = Window.partitionBy(\"datasetA\").orderBy(\"EuclideanDistance\")\n",
    "\n",
    "    self_similarity_df = self_join_w_distance.withColumn(\"r_num\", F.row_number().over(over_original_rows))\n",
    "\n",
    "    self_similarity_df_selected = self_similarity_df.filter(self_similarity_df.r_num <= int(smote_config.k))\n",
    "\n",
    "    over_original_rows_no_order = Window.partitionBy('datasetA')\n",
    "\n",
    "    # list to store batches of synthetic data\n",
    "    res = []\n",
    "    \n",
    "    # two udf for vector add and subtract, subtraction include a random factor [0,1]\n",
    "    subtract_vector_udf = F.udf(subtract_vector_fn, VectorUDT())\n",
    "    add_vector_udf = F.udf(add_vector_fn, VectorUDT())\n",
    "    \n",
    "    # retain original columns\n",
    "    original_cols = dataInput_min.columns\n",
    "    \n",
    "    for i in range(int(smote_config.multiplier)):\n",
    "        # print(\"generating batch %s of synthetic instances\"%i)\n",
    "        # logic to randomly select neighbour: pick the largest random number generated row as the neighbour\n",
    "        df_random_sel = self_similarity_df_selected\\\n",
    "                            .withColumn(\"rand\", F.rand())\\\n",
    "                            .withColumn('max_rand', F.max('rand').over(over_original_rows_no_order))\\\n",
    "                            .where(F.col('rand') == F.col('max_rand')).drop(*['max_rand','rand','r_num'])\n",
    "        # create synthetic feature numerical part\n",
    "        df_vec_diff = df_random_sel\\\n",
    "            .select('*', subtract_vector_udf(F.array('datasetA.features_for_model', 'datasetB.features_for_model')).alias('vec_diff'))\n",
    "        df_vec_modified = df_vec_diff\\\n",
    "            .select('*', add_vector_udf(F.array('datasetB.features_for_model', 'vec_diff')).alias('features_for_model'))\n",
    "        \n",
    "        # for categorical cols, either pick original or the neighbour's cat values\n",
    "        for c in original_cols:\n",
    "            # randomly select neighbour or original data\n",
    "            col_sub = random.choice(['datasetA','datasetB'])\n",
    "            val = \"{0}.{1}\".format(col_sub,c)\n",
    "            if c != 'features_for_model':\n",
    "                # do not unpack original numerical features\n",
    "                df_vec_modified = df_vec_modified.withColumn(c,F.col(val))\n",
    "        \n",
    "        # this df_vec_modified is the synthetic minority instances,\n",
    "        df_vec_modified = df_vec_modified.drop(*['datasetA','datasetB','vec_diff','EuclideanDistance'])\n",
    "        \n",
    "        res.append(df_vec_modified)\n",
    "    \n",
    "    dfunion = reduce(DataFrame.union, res)\n",
    "    dfunion = dfunion.union(dataInput_min.select(dfunion.columns))\\\n",
    "        .sort(F.rand(seed=smote_config.seed))\\\n",
    "        .withColumn('row_number', row_number().over(Window.orderBy(lit('A'))))\n",
    "    \n",
    "    dataInput_maj = dataInput_maj.withColumn('row_number', row_number().over(Window.orderBy(lit('A'))))\n",
    "    \n",
    "    # union synthetic instances with original full (both minority and majority) df\n",
    "    oversampled_df = dfunion.union(dataInput_maj.select(dfunion.columns))\n",
    "    \n",
    "    return oversampled_df.sort('row_number').drop(*['row_number'])\n",
    "\n",
    "class SmoteConfig:\n",
    "    def __init__(self, seed, bucketLength, k, multiplier, positive_label, negative_label):\n",
    "        self.seed = seed\n",
    "        self.bucketLength = bucketLength\n",
    "        self.k = k\n",
    "        self.multiplier = multiplier\n",
    "        self.positive_label = positive_label\n",
    "        self.negative_label = negative_label"
   ]
  },
  {
   "cell_type": "code",
   "execution_count": 81,
   "id": "1258ad06",
   "metadata": {},
   "outputs": [],
   "source": [
    "def wrapper_smote(config_file):\n",
    "    feature_list = ['V1', 'V2', 'V3', 'V4' ,'V5', 'V6', 'V7', 'V8', 'V9', 'V10', 'V11', 'V12', 'V13', 'V14', 'V15', 'V16', 'V17', 'V18', 'V19', 'V20', 'V21', 'V22', 'V23', 'V24', 'V25', 'V26', 'V27', 'V28',  'Amount']\n",
    "    smote_df = pre_smote_df_process(train_data,feature_list,[],'Class',index_suffix=\"_index\")\n",
    "    train_smoted_df = smote(smote_df, config_file)\n",
    "    \n",
    "    rf_model_smote = train_model(train_smoted_df,smote=1)\n",
    "    return rf_model_smote"
   ]
  },
  {
   "cell_type": "code",
   "execution_count": 82,
   "id": "1897e17c",
   "metadata": {
    "scrolled": false
   },
   "outputs": [
    {
     "name": "stderr",
     "output_type": "stream",
     "text": [
      "c:\\Users\\mcmar\\Downloads\\.conda\\Lib\\site-packages\\pyspark\\sql\\context.py:158: FutureWarning: Deprecated in 3.0.0. Use SparkSession.builder.getOrCreate() instead.\n",
      "  warnings.warn(\n",
      "C:\\Users\\mcmar\\AppData\\Local\\Temp\\ipykernel_31200\\3716567219.py:37: UserWarning: set_ticklabels() should only be used with a fixed number of ticks, i.e. after set_ticks() or using a FixedLocator.\n",
      "  ax.set_xticklabels([''] + labels)\n",
      "C:\\Users\\mcmar\\AppData\\Local\\Temp\\ipykernel_31200\\3716567219.py:38: UserWarning: set_ticklabels() should only be used with a fixed number of ticks, i.e. after set_ticks() or using a FixedLocator.\n",
      "  ax.set_yticklabels([''] + labels)\n"
     ]
    },
    {
     "data": {
      "image/png": "[encoded data removed]",
      "text/plain": [
       "<Figure size 640x480 with 2 Axes>"
      ]
     },
     "metadata": {},
     "output_type": "display_data"
    }
   ],
   "source": [
    "# Config k = 10, Multiplier = 25\n",
    "config4a = SmoteConfig(76, 200, 10, 25, 1, 0)\n",
    "rf_model10a = wrapper_smote(config4a)\n",
    "evaluate_test_data(test_data, rf_model10a, \"SMOTE 76, 200, 10, 25\")"
   ]
  },
  {
   "cell_type": "code",
   "execution_count": 83,
   "id": "9f0081fb",
   "metadata": {
    "scrolled": false
   },
   "outputs": [
    {
     "name": "stderr",
     "output_type": "stream",
     "text": [
      "c:\\Users\\mcmar\\Downloads\\.conda\\Lib\\site-packages\\pyspark\\sql\\context.py:158: FutureWarning: Deprecated in 3.0.0. Use SparkSession.builder.getOrCreate() instead.\n",
      "  warnings.warn(\n",
      "C:\\Users\\mcmar\\AppData\\Local\\Temp\\ipykernel_31200\\3716567219.py:37: UserWarning: set_ticklabels() should only be used with a fixed number of ticks, i.e. after set_ticks() or using a FixedLocator.\n",
      "  ax.set_xticklabels([''] + labels)\n",
      "C:\\Users\\mcmar\\AppData\\Local\\Temp\\ipykernel_31200\\3716567219.py:38: UserWarning: set_ticklabels() should only be used with a fixed number of ticks, i.e. after set_ticks() or using a FixedLocator.\n",
      "  ax.set_yticklabels([''] + labels)\n"
     ]
    },
    {
     "data": {
      "image/png": "[encoded data removed]",
      "text/plain": [
       "<Figure size 640x480 with 2 Axes>"
      ]
     },
     "metadata": {},
     "output_type": "display_data"
    }
   ],
   "source": [
    "# Config k = 5, Multiplier = 25\n",
    "config4a = SmoteConfig(76, 20, 5, 25, 1, 0)\n",
    "rf_model10a = wrapper_smote(config4a)\n",
    "evaluate_test_data(test_data, rf_model10a, \"SMOTE 76, 20, 5, 25\")"
   ]
  },
  {
   "cell_type": "code",
   "execution_count": 84,
   "id": "a681f5ba",
   "metadata": {},
   "outputs": [
    {
     "name": "stderr",
     "output_type": "stream",
     "text": [
      "c:\\Users\\mcmar\\Downloads\\.conda\\Lib\\site-packages\\pyspark\\sql\\context.py:158: FutureWarning: Deprecated in 3.0.0. Use SparkSession.builder.getOrCreate() instead.\n",
      "  warnings.warn(\n",
      "C:\\Users\\mcmar\\AppData\\Local\\Temp\\ipykernel_31200\\3716567219.py:37: UserWarning: set_ticklabels() should only be used with a fixed number of ticks, i.e. after set_ticks() or using a FixedLocator.\n",
      "  ax.set_xticklabels([''] + labels)\n",
      "C:\\Users\\mcmar\\AppData\\Local\\Temp\\ipykernel_31200\\3716567219.py:38: UserWarning: set_ticklabels() should only be used with a fixed number of ticks, i.e. after set_ticks() or using a FixedLocator.\n",
      "  ax.set_yticklabels([''] + labels)\n"
     ]
    },
    {
     "data": {
      "image/png": "[encoded data removed]",
      "text/plain": [
       "<Figure size 640x480 with 2 Axes>"
      ]
     },
     "metadata": {},
     "output_type": "display_data"
    }
   ],
   "source": [
    "# Config k = 5, Multiplier = 25\n",
    "config4a = SmoteConfig(76, 1, 5, 25, 1, 0)\n",
    "rf_model10a = wrapper_smote(config4a)\n",
    "evaluate_test_data(test_data, rf_model10a,\"SMOTE 76, 1, 5, 25\")"
   ]
  },
  {
   "cell_type": "code",
   "execution_count": 85,
   "id": "7f9977e3",
   "metadata": {},
   "outputs": [
    {
     "name": "stdout",
     "output_type": "stream",
     "text": [
      "+-----------------------+----------------------+---------------------+----------------------+-------+----+-------+----+\n",
      "|         Method        |        AUROC         |        Recall       |       Accuracy       |   TN  | TP |   FP  | FN |\n",
      "+-----------------------+----------------------+---------------------+----------------------+-------+----+-------+----+\n",
      "|        Baseline       |  0.9529235628592787  |  0.7640449438202247 |  0.9993348606902668  | 54020 | 68 |   15  | 21 |\n",
      "|   Undersampling 1:1   | 0.024630415367484466 | 0.14606741573033707 | 0.009274998152390806 |  489  | 13 | 53546 | 76 |\n",
      "|   Undersampling 1:2   |  0.9768822330096077  |  0.8426966292134831 |  0.9960276402335378  | 53834 | 75 |  201  | 14 |\n",
      "|   Undersampling 1:5   |  0.954200305045731   |  0.8426966292134831 |  0.9987805779321558  | 53983 | 75 |   52  | 14 |\n",
      "|    Oversampling 1:1   | 0.03041900640762386  | 0.14606741573033707 | 0.005284162293991575 |  273  | 13 | 53762 | 76 |\n",
      "|    Oversampling 1:2   |  0.9548527119854692  |  0.8426966292134831 |  0.9979676298869263  | 53939 | 75 |   96  | 14 |\n",
      "|    Oversampling 1:5   |  0.9605977399168039  |  0.8426966292134831 |  0.9990392432192743  | 53997 | 75 |   38  | 14 |\n",
      "| SMOTE 76, 200, 10, 25 |  0.9566891205554452  |  0.8089887640449438 |  0.9992240041386445  | 54010 | 72 |   25  | 17 |\n",
      "|  SMOTE 76, 20, 5, 25  |  0.9564414658414281  |  0.8426966292134831 |  0.9993163845983297  | 54012 | 75 |   23  | 14 |\n",
      "|   SMOTE 76, 1, 5, 25  |  0.9559816099219924  |  0.8314606741573034 |  0.9992979085063928  | 54012 | 74 |   23  | 15 |\n",
      "+-----------------------+----------------------+---------------------+----------------------+-------+----+-------+----+\n"
     ]
    }
   ],
   "source": [
    "print(resultsTable )"
   ]
  },
  {
   "cell_type": "markdown",
   "id": "e56a74fe",
   "metadata": {},
   "source": [
    "The undersampling 1:1 performed really poorly with a very low AUROC / Recall / Accuracy. \n",
    "\n",
    "The undersampling 2:1 ( rf_model2) performed the best with the highest AUROC of 0.977, and a significantly high recall of 0.843.\n",
    "\n"
   ]
  },
  {
   "cell_type": "code",
   "execution_count": null,
   "id": "dbd41faf",
   "metadata": {},
   "outputs": [],
   "source": []
  }
 ],
 "metadata": {
  "kernelspec": {
   "display_name": "Python 3 (ipykernel)",
   "language": "python",
   "name": "python3"
  },
  "language_info": {
   "codemirror_mode": {
    "name": "ipython",
    "version": 3
   },
   "file_extension": ".py",
   "mimetype": "text/x-python",
   "name": "python",
   "nbconvert_exporter": "python",
   "pygments_lexer": "ipython3",
   "version": "3.11.8"
  }
 },
 "nbformat": 4,
 "nbformat_minor": 5
}
